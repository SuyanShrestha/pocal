{
 "cells": [
  {
   "cell_type": "code",
   "execution_count": 1,
   "id": "46c7aaab",
   "metadata": {},
   "outputs": [],
   "source": [
    "import cv2\n",
    "import os \n",
    "from PIL import Image\n",
    "import numpy as np"
   ]
  },
  {
   "cell_type": "markdown",
   "id": "c0392850",
   "metadata": {},
   "source": [
    "# Face Detection\n",
    "\n"
   ]
  },
  {
   "cell_type": "code",
   "execution_count": 2,
   "id": "cc608374",
   "metadata": {},
   "outputs": [],
   "source": [
    "# function for drawing rectangle \n",
    "def draw_boundary(img, classifier, scaleFactor, minNeighbors, color, text):\n",
    "\n",
    "    gray_img = cv2.cvtColor(img, cv2.COLOR_BGR2GRAY)\n",
    "    features = classifier.detectMultiScale(gray_img, scaleFactor, minNeighbors)\n",
    "    coords = []\n",
    "\n",
    "    for (x, y, w, h) in features:\n",
    "        cv2.rectangle(img, (x,y), (x+w, y+h), color, 2)\n",
    "        cv2.putText(img, text, (x, y-4), cv2.FONT_HERSHEY_SIMPLEX, 0.8, color, 1, cv2.LINE_AA)\n",
    "        coords = [x, y, w, h]\n",
    "    return coords\n"
   ]
  },
  {
   "cell_type": "code",
   "execution_count": 3,
   "id": "bed3004e",
   "metadata": {},
   "outputs": [],
   "source": [
    "# loading haarcascades classifiers\n",
    "faceCascade = cv2.CascadeClassifier('haarcascade_frontalface_default.xml')\n",
    "eyesCascade = cv2.CascadeClassifier('haarcascade_eye.xml')\n",
    "noseCascade = cv2.CascadeClassifier('Nariz.xml')\n",
    "mouthCascade = cv2.CascadeClassifier('Mouth.xml')\n",
    "\n",
    "# function for features detection\n",
    "def detect(img, faceCascade, eyeCascade, noseCascade, mouthCascade):\n",
    "    color = {\"blue\":(255,0,0), \"red\":(0,0,255), \"green\":(0,255,0), \"white\":(255,255,255)}\n",
    "    coords = draw_boundary(img, faceCascade, 1.1, 10, color['blue'], \"Face\")\n",
    "\n",
    "    if len(coords)==4:\n",
    "        roi_img = img[coords[1]:coords[1]+coords[3], coords[0]:coords[0]+coords[2]]\n",
    "        coords = draw_boundary(roi_img, eyeCascade, 1.1, 12, color['red'], \"Eye\")\n",
    "        coords = draw_boundary(roi_img, noseCascade, 1.1, 4, color['green'], \"Nose\")\n",
    "        coords = draw_boundary(roi_img, mouthCascade, 1.1, 20, color['white'], \"Mouth\")\n",
    "    return img\n"
   ]
  },
  {
   "cell_type": "code",
   "execution_count": 4,
   "id": "9fbf804f",
   "metadata": {},
   "outputs": [],
   "source": [
    "video_capture = cv2.VideoCapture(0)\n",
    "\n",
    "# main detection part\n",
    "while True:\n",
    "    _, img = video_capture.read()\n",
    "    img = detect(img, faceCascade, eyesCascade, noseCascade, mouthCascade)\n",
    "    cv2.imshow(\"face detection\", img)\n",
    "    if cv2.waitKey(1) & 0xFF == ord('q'):\n",
    "        break\n",
    "\n",
    "\n",
    "video_capture.release()\n",
    "cv2.destroyAllWindows()"
   ]
  },
  {
   "cell_type": "markdown",
   "id": "01da9c7f",
   "metadata": {},
   "source": [
    "# Generating Datasets\n"
   ]
  },
  {
   "cell_type": "code",
   "execution_count": 25,
   "id": "4916f7fd",
   "metadata": {},
   "outputs": [],
   "source": [
    "# this will be called in data detection part\n",
    "def generate_dataset(img, id, img_id):\n",
    "    cv2.imwrite(\"data/Student.\"+str(id)+\".\"+str(img_id)+\".jpg\", img)\n",
    "    "
   ]
  },
  {
   "cell_type": "code",
   "execution_count": 5,
   "id": "874fb4ef",
   "metadata": {},
   "outputs": [
    {
     "name": "stdout",
     "output_type": "stream",
     "text": [
      "Enter the roll number: 48\n"
     ]
    }
   ],
   "source": [
    "roll = int(input(\"Enter the roll number: \"))\n",
    "\n",
    "def detect(img, faceCascade, img_id, roll):\n",
    "    \n",
    "    color = {\"blue\":(255,0,0), \"red\":(0,0,255), \"green\":(0,255,0), \"white\":(255,255,255)}\n",
    "    coords = draw_boundary(img, faceCascade, 1.1, 10, color['blue'], \"Face\")\n",
    "   \n",
    "    if len(coords)==4:\n",
    "        # image crop to only detect face part\n",
    "        roi_img = img[coords[1]:coords[1]+coords[3], coords[0]:coords[0]+coords[2]]\n",
    "        user_id = roll\n",
    "        generate_dataset(roi_img, user_id, img_id)\n",
    "\n",
    "    return img\n"
   ]
  },
  {
   "cell_type": "code",
   "execution_count": 42,
   "id": "af3cb3a4",
   "metadata": {},
   "outputs": [
    {
     "name": "stdout",
     "output_type": "stream",
     "text": [
      "Collected  0  images\n",
      "Collected  50  images\n",
      "Collected  100  images\n"
     ]
    }
   ],
   "source": [
    "faceCascade = cv2.CascadeClassifier('haarcascade_frontalface_default.xml')\n",
    "\n",
    "\n",
    "video_capture = cv2.VideoCapture(0)\n",
    "\n",
    "img_id = 0\n",
    "\n",
    "while True:\n",
    "    if img_id % 50 == 0:\n",
    "        print(\"Collected \", img_id,\" images\")\n",
    "\n",
    "    _, img = video_capture.read()\n",
    "    img = detect(img, faceCascade, img_id, roll)\n",
    "    cv2.imshow(\"face detection\", img)\n",
    "    img_id += 1\n",
    "    \n",
    "    if cv2.waitKey(1) & 0xFF == ord('q'):\n",
    "        break\n",
    "\n",
    "video_capture.release()\n",
    "cv2.destroyAllWindows()"
   ]
  },
  {
   "cell_type": "markdown",
   "id": "7334cfa3",
   "metadata": {},
   "source": [
    "# Training Images\n"
   ]
  },
  {
   "cell_type": "code",
   "execution_count": 20,
   "id": "5e1852c5",
   "metadata": {},
   "outputs": [],
   "source": [
    "def train_classifer(data_dir):\n",
    "    # reads all images in data folder\n",
    "    path = [os.path.join(data_dir, f) for f in os.listdir(data_dir)]\n",
    "    faces = []\n",
    "    ids = []\n",
    "\n",
    "    # storing the images\n",
    "    for image in path:\n",
    "        img1 = Image.open(image).convert('L')\n",
    "        img = img1.resize((186,170))\n",
    "        imageNp = np.array(img, 'uint8')\n",
    "        id = int(os.path.split(image)[1].split(\".\")[1])\n",
    "\n",
    "        faces.append(imageNp)\n",
    "        ids.append(id)\n",
    "\n",
    "    ids = np.array(ids)\n",
    "\n",
    "    # Train and save classifier\n",
    "    clf = cv2.face.EigenFaceRecognizer_create()\n",
    "    clf.train(faces, ids)\n",
    "    clf.write(\"classifier.xml\")\n",
    "\n",
    "\n",
    "train_classifer(\"data\")"
   ]
  },
  {
   "cell_type": "markdown",
   "id": "0b7d1392",
   "metadata": {},
   "source": [
    "# Recognize\n",
    "\n"
   ]
  },
  {
   "cell_type": "code",
   "execution_count": 6,
   "id": "4770121a",
   "metadata": {},
   "outputs": [],
   "source": [
    "# function for drawing rectangle \n",
    "def draw_boundary_predict(img, classifier, scaleFactor, minNeighbors, color, text, clf, rollnum):\n",
    "\n",
    "    gray_img = cv2.cvtColor(img, cv2.COLOR_BGR2GRAY)\n",
    "    features = classifier.detectMultiScale(gray_img, scaleFactor, minNeighbors)\n",
    "    coords = []\n",
    "\n",
    "    for (x, y, w, h) in features:\n",
    "        cv2.rectangle(img, (x,y), (x+w, y+h), color, 2)\n",
    "        \n",
    "        #Predicting part\n",
    "        id, _ = clf.predict(gray_img[y:y+h, x:x+w])\n",
    "        if id==rollnum:\n",
    "            cv2.putText(img, text, (x, y-4), cv2.FONT_HERSHEY_SIMPLEX, 0.8, color, 1, cv2.LINE_AA)\n",
    "        coords = [x, y, w, h]\n",
    "    return coords\n"
   ]
  },
  {
   "cell_type": "code",
   "execution_count": 7,
   "id": "d9548917",
   "metadata": {},
   "outputs": [],
   "source": [
    "faceCascade = cv2.CascadeClassifier('haarcascade_frontalface_default.xml')\n",
    "\n",
    "def recognize(img, clf, faceCascade):\n",
    "    color = {\"blue\": (255, 0, 0), \"red\": (0, 0, 255), \"green\": (0, 255, 0), \"white\": (255, 255, 255)}\n",
    "    coords = draw_boundary_predict(img, faceCascade, 1.1, 10, color[\"white\"], \"Face\", clf, roll)\n",
    "    return img\n",
    "\n",
    "\n"
   ]
  },
  {
   "cell_type": "code",
   "execution_count": null,
   "id": "7bd445ad",
   "metadata": {},
   "outputs": [],
   "source": [
    "clf = cv2.face.EigenFaceRecognizer_create()\n",
    "clf.read(\"classifier.xml\")\n",
    "\n",
    "video_capture = cv2.VideoCapture(0)\n",
    "\n",
    "while True:\n",
    "    _, img1 = video_capture.read()\n",
    "    img = img1.resize((186,170))\n",
    "    img = recognize(img, clf, faceCascade)\n",
    "    cv2.imshow(\"face detection\", img)\n",
    "    if cv2.waitKey(1) & 0xFF == ord('q'):\n",
    "        break\n",
    "\n",
    "video_capture.release()\n",
    "cv2.destroyAllWindows()"
   ]
  },
  {
   "cell_type": "code",
   "execution_count": null,
   "id": "283081ba",
   "metadata": {},
   "outputs": [],
   "source": []
  },
  {
   "cell_type": "code",
   "execution_count": null,
   "id": "0e169314",
   "metadata": {},
   "outputs": [],
   "source": []
  }
 ],
 "metadata": {
  "kernelspec": {
   "display_name": "Python 3 (ipykernel)",
   "language": "python",
   "name": "python3"
  },
  "language_info": {
   "codemirror_mode": {
    "name": "ipython",
    "version": 3
   },
   "file_extension": ".py",
   "mimetype": "text/x-python",
   "name": "python",
   "nbconvert_exporter": "python",
   "pygments_lexer": "ipython3",
   "version": "3.10.5"
  }
 },
 "nbformat": 4,
 "nbformat_minor": 5
}
